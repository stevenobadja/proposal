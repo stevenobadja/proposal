{
 "cells": [
  {
   "cell_type": "markdown",
   "metadata": {},
   "source": [
    "**The problem:**<br/>\n",
    "As online users have become used to the fast-paced microwave lifestyle, their immediate need and attention are of utmost important. According to research done by Neilsen Norman Group “Users often leave Web pages in 10–20 seconds, but pages with a clear value proposition can hold people's attention for much longer.” (Nielsen 2011) \n",
    "\n",
    "[![weibull.png](weibull.png)](weibull.png)\n",
    "\n",
    "“It's clear from the chart that the first 10 seconds of the page visit are critical for users' decision to stay or leave. The probability of leaving is very high during these first few seconds because users are extremely skeptical, having suffered countless poorly designed web pages in the past. People know that most web pages are useless, and they behave accordingly to avoid wasting more time than absolutely necessary on bad pages.” (Nielsen 2011)\n",
    "\n",
    "**The question:**<br/>\n",
    "So what can we do engage the users in a way that will not leave them skeptical or give the impression that the website is poorly designed?\n",
    "\n",
    "**The solution:**<br/>\n",
    "A chatbot! Yes, “chatbots are beneficial for both parties: developing chatbots is cheaper than training and hiring human customer service agents for the company, and customers often prefer a brisk mobile interaction over talking with someone in person or with the call center. Consider this statistic from Gartner, that artificial intelligence will amount for 85% of customer relationships by 2020.” (Morgan 2017)\n",
    "\n",
    "**The data source:**<br/>\n",
    "It would be any frequently asked questions and answer to any website.\n",
    "\n",
    "**The technique:**<br/>\n",
    "Through extensive research, I’ve found that using a encoder decoder model with attention through Keras would be the most effective technique. The results for this is accurate given how small the dataset can be.\n",
    "\n",
    "**The anticipated challenge:**<br/>\n",
    "How will the chatbot react give a word that is not in it’s corpus? Will it crash or will it respond well.\n",
    "\n",
    "## Works Cited\n",
    "Morgan, Blake. Forbes. 03 21, 2017. https://www.forbes.com/sites/blakemorgan/2017/03/21/how-chatbots-will-transform-customer-experience-an-infographic/#646faa017fb4 (accessed 03 22, 2018).\n",
    "\n",
    "Nielsen, Jakob. Nielsen Norman Group. 09 12, 2011. https://www.nngroup.com/articles/how-long-do-users-stay-on-web-pages/ (accessed 03 22, 2018)."
   ]
  }
 ],
 "metadata": {
  "kernelspec": {
   "display_name": "Python 3",
   "language": "python",
   "name": "python3"
  },
  "language_info": {
   "codemirror_mode": {
    "name": "ipython",
    "version": 3
   },
   "file_extension": ".py",
   "mimetype": "text/x-python",
   "name": "python",
   "nbconvert_exporter": "python",
   "pygments_lexer": "ipython3",
   "version": "3.6.4"
  }
 },
 "nbformat": 4,
 "nbformat_minor": 2
}
